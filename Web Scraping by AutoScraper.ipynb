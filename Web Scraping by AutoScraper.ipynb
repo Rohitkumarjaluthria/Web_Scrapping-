{
 "cells": [
  {
   "cell_type": "code",
   "execution_count": 1,
   "id": "71738842",
   "metadata": {},
   "outputs": [
    {
     "name": "stdout",
     "output_type": "stream",
     "text": [
      "Collecting autoscraper\n",
      "  Downloading autoscraper-1.1.14-py3-none-any.whl (10 kB)\n",
      "Requirement already satisfied: lxml in c:\\users\\rohit\\anaconda3\\lib\\site-packages (from autoscraper) (4.9.1)\n",
      "Collecting bs4\n",
      "  Using cached bs4-0.0.1-py3-none-any.whl\n",
      "Requirement already satisfied: requests in c:\\users\\rohit\\anaconda3\\lib\\site-packages (from autoscraper) (2.28.1)\n",
      "Requirement already satisfied: beautifulsoup4 in c:\\users\\rohit\\anaconda3\\lib\\site-packages (from bs4->autoscraper) (4.11.1)\n",
      "Requirement already satisfied: charset-normalizer<3,>=2 in c:\\users\\rohit\\anaconda3\\lib\\site-packages (from requests->autoscraper) (2.0.4)\n",
      "Requirement already satisfied: urllib3<1.27,>=1.21.1 in c:\\users\\rohit\\anaconda3\\lib\\site-packages (from requests->autoscraper) (1.26.11)\n",
      "Requirement already satisfied: certifi>=2017.4.17 in c:\\users\\rohit\\anaconda3\\lib\\site-packages (from requests->autoscraper) (2022.9.14)\n",
      "Requirement already satisfied: idna<4,>=2.5 in c:\\users\\rohit\\anaconda3\\lib\\site-packages (from requests->autoscraper) (3.3)\n",
      "Requirement already satisfied: soupsieve>1.2 in c:\\users\\rohit\\anaconda3\\lib\\site-packages (from beautifulsoup4->bs4->autoscraper) (2.3.1)\n",
      "Installing collected packages: bs4, autoscraper\n",
      "Successfully installed autoscraper-1.1.14 bs4-0.0.1\n"
     ]
    }
   ],
   "source": [
    "!pip install autoscraper"
   ]
  },
  {
   "cell_type": "code",
   "execution_count": 2,
   "id": "fb9b0d58",
   "metadata": {},
   "outputs": [],
   "source": [
    "from autoscraper import AutoScraper"
   ]
  },
  {
   "cell_type": "code",
   "execution_count": 3,
   "id": "ce195357",
   "metadata": {},
   "outputs": [],
   "source": [
    "url= \"https://www.flipkart.com/search?q=iphone&otracker=search&otracker1=search&marketplace=FLIPKART&as-show=on&as=off\"\n",
    "\n",
    "wanted_list= [\"APPLE iPhone 14 (Midnight, 128 GB)\",\" ₹70,999 \", \" 34,346 Ratings & 1,337 Review \" ]"
   ]
  },
  {
   "cell_type": "code",
   "execution_count": 4,
   "id": "aad5d0f9",
   "metadata": {},
   "outputs": [
    {
     "name": "stdout",
     "output_type": "stream",
     "text": [
      "['APPLE iPhone 14 (Midnight, 128 GB)', 'APPLE iPhone 14 (Starlight, 128 GB)', 'APPLE iPhone 14 ((PRODUCT)RED, 128 GB)', 'APPLE iPhone 14 (Blue, 128 GB)', 'APPLE iPhone 13 (Midnight, 128 GB)', 'APPLE iPhone 13 (Starlight, 128 GB)', 'APPLE iPhone 13 (Blue, 128 GB)', 'APPLE iPhone 13 (Pink, 128 GB)', 'APPLE iPhone 11 (White, 64 GB)', 'APPLE iPhone 11 (Black, 128 GB)', 'APPLE iPhone 11 (White, 128 GB)', 'APPLE iPhone 14 Plus (Midnight, 128 GB)', 'APPLE iPhone 14 (Purple, 128 GB)', 'APPLE iPhone 14 Plus (Purple, 128 GB)', 'APPLE iPhone 14 Plus (Starlight, 128 GB)', 'APPLE iPhone 14 (Midnight, 256 GB)', 'APPLE iPhone 11 (Black, 64 GB)', 'APPLE iPhone 14 Plus ((PRODUCT)RED, 128 GB)', 'APPLE iPhone 14 Plus (Yellow, 128 GB)', 'APPLE iPhone 14 Plus (Blue, 128 GB)', 'APPLE iPhone 12 (Green, 64 GB)', 'APPLE iPhone 12 (White, 64 GB)', 'APPLE iPhone 14 Pro Max (Space Black, 128 GB)', 'APPLE iPhone 12 (Blue, 64 GB)', '₹61,999', '₹1,27,999', '₹53,999', '₹70,999', '₹40,999', '₹67,999', '₹45,499', '₹80,999', '₹71,999', '₹78,999']\n"
     ]
    }
   ],
   "source": [
    "scraper=AutoScraper()\n",
    "res=scraper.build(url, wanted_list)\n",
    "print(res)"
   ]
  },
  {
   "cell_type": "code",
   "execution_count": 5,
   "id": "888e349a",
   "metadata": {},
   "outputs": [
    {
     "data": {
      "text/plain": [
       "{'rule_d5t8': ['APPLE iPhone 14 (Midnight, 128 GB)',\n",
       "  'APPLE iPhone 14 (Starlight, 128 GB)',\n",
       "  'APPLE iPhone 14 ((PRODUCT)RED, 128 GB)',\n",
       "  'APPLE iPhone 14 (Blue, 128 GB)',\n",
       "  'APPLE iPhone 13 (Midnight, 128 GB)',\n",
       "  'APPLE iPhone 13 (Starlight, 128 GB)',\n",
       "  'APPLE iPhone 13 (Blue, 128 GB)',\n",
       "  'APPLE iPhone 13 (Pink, 128 GB)',\n",
       "  'APPLE iPhone 11 (White, 64 GB)',\n",
       "  'APPLE iPhone 11 (Black, 128 GB)',\n",
       "  'APPLE iPhone 11 (White, 128 GB)',\n",
       "  'APPLE iPhone 14 Plus (Midnight, 128 GB)',\n",
       "  'APPLE iPhone 14 (Purple, 128 GB)',\n",
       "  'APPLE iPhone 14 Plus (Purple, 128 GB)',\n",
       "  'APPLE iPhone 14 Plus (Starlight, 128 GB)',\n",
       "  'APPLE iPhone 14 (Midnight, 256 GB)',\n",
       "  'APPLE iPhone 11 (Black, 64 GB)',\n",
       "  'APPLE iPhone 14 Plus ((PRODUCT)RED, 128 GB)',\n",
       "  'APPLE iPhone 14 Plus (Yellow, 128 GB)',\n",
       "  'APPLE iPhone 14 Plus (Blue, 128 GB)',\n",
       "  'APPLE iPhone 12 (Green, 64 GB)',\n",
       "  'APPLE iPhone 12 (White, 64 GB)',\n",
       "  'APPLE iPhone 14 Pro Max (Space Black, 128 GB)',\n",
       "  'APPLE iPhone 12 (Blue, 64 GB)'],\n",
       " 'rule_ye6q': ['APPLE iPhone 14 (Midnight, 128 GB)',\n",
       "  'APPLE iPhone 14 (Starlight, 128 GB)',\n",
       "  'APPLE iPhone 14 ((PRODUCT)RED, 128 GB)',\n",
       "  'APPLE iPhone 14 (Blue, 128 GB)',\n",
       "  'APPLE iPhone 13 (Midnight, 128 GB)',\n",
       "  'APPLE iPhone 13 (Starlight, 128 GB)',\n",
       "  'APPLE iPhone 13 (Blue, 128 GB)',\n",
       "  'APPLE iPhone 13 (Pink, 128 GB)',\n",
       "  'APPLE iPhone 11 (White, 64 GB)',\n",
       "  'APPLE iPhone 11 (Black, 128 GB)',\n",
       "  'APPLE iPhone 11 (White, 128 GB)',\n",
       "  'APPLE iPhone 14 Plus (Midnight, 128 GB)',\n",
       "  'APPLE iPhone 14 (Purple, 128 GB)',\n",
       "  'APPLE iPhone 14 Plus (Purple, 128 GB)',\n",
       "  'APPLE iPhone 14 Plus (Starlight, 128 GB)',\n",
       "  'APPLE iPhone 14 (Midnight, 256 GB)',\n",
       "  'APPLE iPhone 11 (Black, 64 GB)',\n",
       "  'APPLE iPhone 14 Plus ((PRODUCT)RED, 128 GB)',\n",
       "  'APPLE iPhone 14 Plus (Yellow, 128 GB)',\n",
       "  'APPLE iPhone 14 Plus (Blue, 128 GB)',\n",
       "  'APPLE iPhone 12 (Green, 64 GB)',\n",
       "  'APPLE iPhone 12 (White, 64 GB)',\n",
       "  'APPLE iPhone 14 Pro Max (Space Black, 128 GB)',\n",
       "  'APPLE iPhone 12 (Blue, 64 GB)'],\n",
       " 'rule_qvgu': ['₹61,999', '₹1,27,999', '₹53,999', '₹70,999', '₹40,999'],\n",
       " 'rule_cp1j': ['₹70,999',\n",
       "  '₹70,999',\n",
       "  '₹67,999',\n",
       "  '₹70,999',\n",
       "  '₹61,999',\n",
       "  '₹61,999',\n",
       "  '₹61,999',\n",
       "  '₹61,999',\n",
       "  '₹40,999',\n",
       "  '₹45,499',\n",
       "  '₹45,499',\n",
       "  '₹80,999',\n",
       "  '₹71,999',\n",
       "  '₹80,999',\n",
       "  '₹80,999',\n",
       "  '₹80,999',\n",
       "  '₹40,999',\n",
       "  '₹78,999',\n",
       "  '₹80,999',\n",
       "  '₹80,999',\n",
       "  '₹53,999',\n",
       "  '₹53,999',\n",
       "  '₹1,27,999',\n",
       "  '₹53,999'],\n",
       " 'rule_o4lg': ['₹70,999',\n",
       "  '₹70,999',\n",
       "  '₹67,999',\n",
       "  '₹70,999',\n",
       "  '₹61,999',\n",
       "  '₹61,999',\n",
       "  '₹61,999',\n",
       "  '₹61,999',\n",
       "  '₹40,999',\n",
       "  '₹45,499',\n",
       "  '₹45,499',\n",
       "  '₹80,999',\n",
       "  '₹71,999',\n",
       "  '₹80,999',\n",
       "  '₹80,999',\n",
       "  '₹80,999',\n",
       "  '₹40,999',\n",
       "  '₹78,999',\n",
       "  '₹80,999',\n",
       "  '₹80,999',\n",
       "  '₹53,999',\n",
       "  '₹53,999',\n",
       "  '₹1,27,999',\n",
       "  '₹53,999'],\n",
       " 'rule_ajkt': ['₹70,999',\n",
       "  '₹70,999',\n",
       "  '₹67,999',\n",
       "  '₹70,999',\n",
       "  '₹61,999',\n",
       "  '₹61,999',\n",
       "  '₹61,999',\n",
       "  '₹61,999',\n",
       "  '₹40,999',\n",
       "  '₹45,499',\n",
       "  '₹45,499',\n",
       "  '₹80,999',\n",
       "  '₹71,999',\n",
       "  '₹80,999',\n",
       "  '₹80,999',\n",
       "  '₹80,999',\n",
       "  '₹40,999',\n",
       "  '₹78,999',\n",
       "  '₹80,999',\n",
       "  '₹80,999',\n",
       "  '₹53,999',\n",
       "  '₹53,999',\n",
       "  '₹1,27,999',\n",
       "  '₹53,999']}"
      ]
     },
     "execution_count": 5,
     "metadata": {},
     "output_type": "execute_result"
    }
   ],
   "source": [
    "scraper.get_result_similar(url,grouped=True)"
   ]
  },
  {
   "cell_type": "code",
   "execution_count": 6,
   "id": "5a270725",
   "metadata": {},
   "outputs": [],
   "source": [
    "scraper.set_rule_aliases({'rule_d5t8':'Title','rule_ye6q':'Price'})\n",
    "scraper.keep_rules(['rule_d5t8','rule_ye6q'])\n",
    "scraper.save('flipkart-search')"
   ]
  },
  {
   "cell_type": "code",
   "execution_count": 11,
   "id": "11bc275c",
   "metadata": {},
   "outputs": [],
   "source": [
    "result=scraper.get_result_similar(url,group_by_alias=True)"
   ]
  },
  {
   "cell_type": "code",
   "execution_count": 20,
   "id": "487ee697",
   "metadata": {},
   "outputs": [
    {
     "data": {
      "text/plain": [
       "['APPLE iPhone 14 (Midnight, 128 GB)',\n",
       " 'APPLE iPhone 14 ((PRODUCT)RED, 128 GB)',\n",
       " 'APPLE iPhone 14 (Blue, 128 GB)',\n",
       " 'APPLE iPhone 14 (Starlight, 128 GB)',\n",
       " 'APPLE iPhone 13 (Midnight, 128 GB)',\n",
       " 'APPLE iPhone 13 (Starlight, 128 GB)',\n",
       " 'APPLE iPhone 13 (Blue, 128 GB)',\n",
       " 'APPLE iPhone 13 (Pink, 128 GB)',\n",
       " 'APPLE iPhone 11 (Black, 128 GB)',\n",
       " 'APPLE iPhone 11 (White, 128 GB)',\n",
       " 'APPLE iPhone 11 (White, 64 GB)',\n",
       " 'APPLE iPhone 14 (Purple, 128 GB)',\n",
       " 'APPLE iPhone 14 Plus (Midnight, 128 GB)',\n",
       " 'APPLE iPhone 14 Plus (Purple, 128 GB)',\n",
       " 'APPLE iPhone 14 Plus (Starlight, 128 GB)',\n",
       " 'APPLE iPhone 14 (Midnight, 256 GB)',\n",
       " 'APPLE iPhone 11 (Black, 64 GB)',\n",
       " 'APPLE iPhone 14 Plus (Yellow, 128 GB)',\n",
       " 'APPLE iPhone 14 Plus (Blue, 128 GB)',\n",
       " 'APPLE iPhone 12 (Green, 64 GB)',\n",
       " 'APPLE iPhone 14 Plus ((PRODUCT)RED, 128 GB)',\n",
       " 'APPLE iPhone 12 (White, 64 GB)',\n",
       " 'APPLE iPhone 14 Pro Max (Space Black, 128 GB)',\n",
       " 'APPLE iPhone 12 (Blue, 64 GB)']"
      ]
     },
     "execution_count": 20,
     "metadata": {},
     "output_type": "execute_result"
    }
   ],
   "source": [
    "result['Price']"
   ]
  },
  {
   "cell_type": "code",
   "execution_count": null,
   "id": "38793fe1",
   "metadata": {},
   "outputs": [],
   "source": []
  },
  {
   "cell_type": "raw",
   "id": "50699eba",
   "metadata": {},
   "source": []
  },
  {
   "cell_type": "code",
   "execution_count": null,
   "id": "c7cd7720",
   "metadata": {},
   "outputs": [],
   "source": []
  },
  {
   "cell_type": "code",
   "execution_count": null,
   "id": "75e966ec",
   "metadata": {},
   "outputs": [],
   "source": []
  }
 ],
 "metadata": {
  "kernelspec": {
   "display_name": "Python 3 (ipykernel)",
   "language": "python",
   "name": "python3"
  },
  "language_info": {
   "codemirror_mode": {
    "name": "ipython",
    "version": 3
   },
   "file_extension": ".py",
   "mimetype": "text/x-python",
   "name": "python",
   "nbconvert_exporter": "python",
   "pygments_lexer": "ipython3",
   "version": "3.9.13"
  }
 },
 "nbformat": 4,
 "nbformat_minor": 5
}
